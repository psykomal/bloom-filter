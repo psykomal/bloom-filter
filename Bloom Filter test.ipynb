{
 "cells": [
  {
   "cell_type": "code",
   "execution_count": 63,
   "id": "23a36af4-b64d-44b2-968b-f9f4cfd64f64",
   "metadata": {},
   "outputs": [],
   "source": [
    "from bloom_filter import *\n"
   ]
  },
  {
   "cell_type": "code",
   "execution_count": 128,
   "id": "497ed7ed-ac7f-4534-b915-ff175af339db",
   "metadata": {},
   "outputs": [],
   "source": [
    "bloom_filter = BloomFilter(prob_fp=0.5, data_set_size=100)"
   ]
  },
  {
   "cell_type": "code",
   "execution_count": 129,
   "id": "3eea66d4-62c0-43d6-b727-142f786f2d7a",
   "metadata": {},
   "outputs": [
    {
     "data": {
      "text/plain": [
       "145"
      ]
     },
     "execution_count": 129,
     "metadata": {},
     "output_type": "execute_result"
    }
   ],
   "source": [
    "bloom_filter.vector_len"
   ]
  },
  {
   "cell_type": "code",
   "execution_count": 130,
   "id": "74208fc0-f239-42f9-9eb3-411f2313dc8b",
   "metadata": {},
   "outputs": [],
   "source": [
    "\n",
    "animals = [\n",
    "    \"dog\",\n",
    "    \"cat\",\n",
    "    \"giraffe\",\n",
    "    \"fly\",\n",
    "    \"mosquito\",\n",
    "    \"horse\",\n",
    "    \"eagle\",\n",
    "    \"bird\",\n",
    "    \"bison\",\n",
    "    \"boar\",\n",
    "    \"butterfly\",\n",
    "    \"ant\",\n",
    "    \"anaconda\",\n",
    "    \"bear\",\n",
    "    \"chicken\",\n",
    "    \"dolphin\",\n",
    "    \"donkey\",\n",
    "    \"crow\",\n",
    "    \"crocodile\",\n",
    "]\n",
    "\n",
    "other_animals = [\n",
    "    \"badger\",\n",
    "    \"cow\",\n",
    "    \"pig\",\n",
    "    \"sheep\",\n",
    "    \"bee\",\n",
    "    \"wolf\",\n",
    "    \"fox\",\n",
    "    \"whale\",\n",
    "    \"shark\",\n",
    "    \"fish\",\n",
    "    \"turkey\",\n",
    "    \"duck\",\n",
    "    \"dove\",\n",
    "    \"deer\",\n",
    "    \"elephant\",\n",
    "    \"frog\",\n",
    "    \"falcon\",\n",
    "    \"goat\",\n",
    "    \"gorilla\",\n",
    "    \"hawk\",\n",
    "]"
   ]
  },
  {
   "cell_type": "code",
   "execution_count": 131,
   "id": "cfcca469-3931-4a2d-939b-7a32cd6072bd",
   "metadata": {},
   "outputs": [],
   "source": [
    "for animal in animals:\n",
    "    bloom_filter.add(animal)"
   ]
  },
  {
   "cell_type": "code",
   "execution_count": 132,
   "id": "72c41380-e897-4f27-a9e6-437de7b6859a",
   "metadata": {},
   "outputs": [
    {
     "name": "stdout",
     "output_type": "stream",
     "text": [
      "\"dog\" is PROBABLY IN the filter.\n",
      "\"cat\" is PROBABLY IN the filter.\n",
      "\"giraffe\" is PROBABLY IN the filter.\n",
      "\"fly\" is PROBABLY IN the filter.\n",
      "\"mosquito\" is PROBABLY IN the filter.\n",
      "\"horse\" is PROBABLY IN the filter.\n",
      "\"eagle\" is PROBABLY IN the filter.\n",
      "\"bird\" is PROBABLY IN the filter.\n",
      "\"bison\" is PROBABLY IN the filter.\n",
      "\"boar\" is PROBABLY IN the filter.\n",
      "\"butterfly\" is PROBABLY IN the filter.\n",
      "\"ant\" is PROBABLY IN the filter.\n",
      "\"anaconda\" is PROBABLY IN the filter.\n",
      "\"bear\" is PROBABLY IN the filter.\n",
      "\"chicken\" is PROBABLY IN the filter.\n",
      "\"dolphin\" is PROBABLY IN the filter.\n",
      "\"donkey\" is PROBABLY IN the filter.\n",
      "\"crow\" is PROBABLY IN the filter.\n",
      "\"crocodile\" is PROBABLY IN the filter.\n",
      "\"badger\" is a FALSE POSITIVE case (please adjust prob_fp to a smaller value).\n",
      "\"cow\" is DEFINITELY NOT IN the filter as expected.\n",
      "\"pig\" is DEFINITELY NOT IN the filter as expected.\n",
      "\"sheep\" is a FALSE POSITIVE case (please adjust prob_fp to a smaller value).\n",
      "\"bee\" is DEFINITELY NOT IN the filter as expected.\n",
      "\"wolf\" is DEFINITELY NOT IN the filter as expected.\n",
      "\"fox\" is DEFINITELY NOT IN the filter as expected.\n",
      "\"whale\" is DEFINITELY NOT IN the filter as expected.\n",
      "\"shark\" is DEFINITELY NOT IN the filter as expected.\n",
      "\"fish\" is DEFINITELY NOT IN the filter as expected.\n",
      "\"turkey\" is DEFINITELY NOT IN the filter as expected.\n",
      "\"duck\" is DEFINITELY NOT IN the filter as expected.\n",
      "\"dove\" is DEFINITELY NOT IN the filter as expected.\n",
      "\"deer\" is DEFINITELY NOT IN the filter as expected.\n",
      "\"elephant\" is DEFINITELY NOT IN the filter as expected.\n",
      "\"frog\" is DEFINITELY NOT IN the filter as expected.\n",
      "\"falcon\" is DEFINITELY NOT IN the filter as expected.\n",
      "\"goat\" is DEFINITELY NOT IN the filter as expected.\n",
      "\"gorilla\" is DEFINITELY NOT IN the filter as expected.\n",
      "\"hawk\" is DEFINITELY NOT IN the filter as expected.\n"
     ]
    }
   ],
   "source": [
    "\n",
    "for animal in animals + other_animals:\n",
    "    if bloom_filter.contains(animal):\n",
    "        if animal in other_animals:\n",
    "            print(\n",
    "                f'\"{animal}\" is a FALSE POSITIVE case (please adjust prob_fp to a smaller value).'\n",
    "            )\n",
    "        else:\n",
    "            print(f'\"{animal}\" is PROBABLY IN the filter.')\n",
    "    else:\n",
    "        print(f'\"{animal}\" is DEFINITELY NOT IN the filter as expected.')"
   ]
  },
  {
   "cell_type": "code",
   "execution_count": null,
   "id": "a2aa6ffd-0582-48d4-8e40-1db901e6de02",
   "metadata": {},
   "outputs": [],
   "source": []
  }
 ],
 "metadata": {
  "kernelspec": {
   "display_name": "Python 3 (ipykernel)",
   "language": "python",
   "name": "python3"
  },
  "language_info": {
   "codemirror_mode": {
    "name": "ipython",
    "version": 3
   },
   "file_extension": ".py",
   "mimetype": "text/x-python",
   "name": "python",
   "nbconvert_exporter": "python",
   "pygments_lexer": "ipython3",
   "version": "3.9.12"
  }
 },
 "nbformat": 4,
 "nbformat_minor": 5
}
